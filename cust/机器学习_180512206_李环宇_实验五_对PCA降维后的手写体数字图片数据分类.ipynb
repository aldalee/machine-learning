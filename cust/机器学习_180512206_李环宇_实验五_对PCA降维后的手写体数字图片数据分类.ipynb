{
 "cells": [
  {
   "cell_type": "markdown",
   "id": "6c1946d1",
   "metadata": {},
   "source": [
    "# 实验五 对PCA降维后的手写体数字图片数据分类"
   ]
  },
  {
   "cell_type": "code",
   "execution_count": 49,
   "id": "8daf3da0",
   "metadata": {},
   "outputs": [],
   "source": [
    "from sklearn.decomposition import PCA\n",
    "from sklearn.neural_network import MLPClassifier\n",
    "from timeit import default_timer as timer\n",
    "from sklearn.metrics import accuracy_score\n",
    "import matplotlib.pyplot as plt\n",
    "import joblib\n",
    "import numpy as np"
   ]
  },
  {
   "cell_type": "markdown",
   "id": "283c2766",
   "metadata": {},
   "source": [
    "## 载入训练数据"
   ]
  },
  {
   "cell_type": "code",
   "execution_count": 74,
   "id": "51475bf1",
   "metadata": {},
   "outputs": [],
   "source": [
    "data_train = np.loadtxt(r\"data/digits_training.csv\",skiprows=1,delimiter=',')"
   ]
  },
  {
   "cell_type": "markdown",
   "id": "24387e8e",
   "metadata": {},
   "source": [
    "### 查看前5行"
   ]
  },
  {
   "cell_type": "code",
   "execution_count": 51,
   "id": "b2ba997a",
   "metadata": {},
   "outputs": [
    {
     "data": {
      "text/plain": [
       "array([[1., 0., 0., ..., 0., 0., 0.],\n",
       "       [0., 0., 0., ..., 0., 0., 0.],\n",
       "       [1., 0., 0., ..., 0., 0., 0.],\n",
       "       [4., 0., 0., ..., 0., 0., 0.]])"
      ]
     },
     "execution_count": 51,
     "metadata": {},
     "output_type": "execute_result"
    }
   ],
   "source": [
    "data_train[:4,:]"
   ]
  },
  {
   "cell_type": "markdown",
   "id": "9794114a",
   "metadata": {},
   "source": [
    "### 查看数据集大小"
   ]
  },
  {
   "cell_type": "code",
   "execution_count": 52,
   "id": "9c73ce7d",
   "metadata": {},
   "outputs": [
    {
     "data": {
      "text/plain": [
       "5000"
      ]
     },
     "execution_count": 52,
     "metadata": {},
     "output_type": "execute_result"
    }
   ],
   "source": [
    "data_train.shape[0]"
   ]
  },
  {
   "cell_type": "markdown",
   "id": "0de74d43",
   "metadata": {},
   "source": [
    "## 标准化训练数据"
   ]
  },
  {
   "cell_type": "code",
   "execution_count": 75,
   "id": "37441589",
   "metadata": {},
   "outputs": [],
   "source": [
    "xTrain = data_train[:, 1:]\n",
    "yTrain = data_train[:, 0]"
   ]
  },
  {
   "cell_type": "code",
   "execution_count": 76,
   "id": "d73be4a9",
   "metadata": {},
   "outputs": [],
   "source": [
    "def normalizeData(X): \n",
    "    return X - np.mean(X, axis=0)"
   ]
  },
  {
   "cell_type": "code",
   "execution_count": 77,
   "id": "2a1daac9",
   "metadata": {},
   "outputs": [],
   "source": [
    "xTrain=normalizeData(xTrain)"
   ]
  },
  {
   "cell_type": "markdown",
   "id": "6e534e0c",
   "metadata": {},
   "source": [
    "## 主成分分析"
   ]
  },
  {
   "cell_type": "code",
   "execution_count": 56,
   "id": "c813bf6a",
   "metadata": {},
   "outputs": [
    {
     "data": {
      "text/plain": [
       "(5000, 784)"
      ]
     },
     "execution_count": 56,
     "metadata": {},
     "output_type": "execute_result"
    }
   ],
   "source": [
    "xTrain.shape"
   ]
  },
  {
   "cell_type": "code",
   "execution_count": 78,
   "id": "107262dd",
   "metadata": {},
   "outputs": [],
   "source": [
    "pca = PCA(n_components=xTrain.shape[1])"
   ]
  },
  {
   "cell_type": "code",
   "execution_count": 79,
   "id": "b4b0200b",
   "metadata": {},
   "outputs": [
    {
     "data": {
      "text/plain": [
       "PCA(n_components=784)"
      ]
     },
     "execution_count": 79,
     "metadata": {},
     "output_type": "execute_result"
    }
   ],
   "source": [
    "pca.fit(xTrain)"
   ]
  },
  {
   "cell_type": "code",
   "execution_count": 80,
   "id": "47086267",
   "metadata": {},
   "outputs": [
    {
     "data": {
      "text/plain": [
       "[<matplotlib.lines.Line2D at 0x27aa05f3eb0>]"
      ]
     },
     "execution_count": 80,
     "metadata": {},
     "output_type": "execute_result"
    },
    {
     "data": {
      "image/png": "[encoded data removed]",
      "text/plain": [
       "<Figure size 432x288 with 1 Axes>"
      ]
     },
     "metadata": {
      "needs_background": "light"
     },
     "output_type": "display_data"
    }
   ],
   "source": [
    "# 表示取前n个主成分能解释多少百分比的方差\n",
    "plt.plot([i for i in range(xTrain.shape[1])],[np.sum(pca.explained_variance_ratio_[:i+1]) for i in range(xTrain.shape[1])])\n",
    "plt.show()"
   ]
  },
  {
   "cell_type": "markdown",
   "id": "3139bcc1",
   "metadata": {},
   "source": [
    "对于方差解释度既要顾忌准确程度，也要顾忌效率\n",
    "大约在150左右的维度能达到95%以上（其实准确计算后发现149时达到95%）"
   ]
  },
  {
   "cell_type": "markdown",
   "id": "b648f227",
   "metadata": {},
   "source": [
    "## 使用PCA对数据降维，显示主成分个数"
   ]
  },
  {
   "cell_type": "code",
   "execution_count": 81,
   "id": "256289cf",
   "metadata": {},
   "outputs": [
    {
     "data": {
      "text/plain": [
       "PCA(n_components=0.9)"
      ]
     },
     "execution_count": 81,
     "metadata": {},
     "output_type": "execute_result"
    }
   ],
   "source": [
    "# 使用PCA对数据降维，取累计贡献率超过95%的前k个元素\n",
    "pca = PCA(n_components=0.90)\n",
    "pca.fit(xTrain)"
   ]
  },
  {
   "cell_type": "code",
   "execution_count": 82,
   "id": "676df78a",
   "metadata": {},
   "outputs": [],
   "source": [
    "xTrain_re = pca.transform(xTrain)"
   ]
  },
  {
   "cell_type": "code",
   "execution_count": 83,
   "id": "4efb230d",
   "metadata": {},
   "outputs": [
    {
     "data": {
      "text/plain": [
       "85"
      ]
     },
     "execution_count": 83,
     "metadata": {},
     "output_type": "execute_result"
    }
   ],
   "source": [
    "xTrain_re.shape[1]"
   ]
  },
  {
   "cell_type": "markdown",
   "id": "2ebe2e1f",
   "metadata": {},
   "source": [
    "## 使用多层感知机对PCA降维后的数据训练分类模型"
   ]
  },
  {
   "cell_type": "code",
   "execution_count": 84,
   "id": "49198551",
   "metadata": {},
   "outputs": [
    {
     "data": {
      "text/plain": [
       "MLPClassifier(alpha=1e-06, hidden_layer_sizes=(200, 100, 50), solver='lbfgs')"
      ]
     },
     "execution_count": 84,
     "metadata": {},
     "output_type": "execute_result"
    }
   ],
   "source": [
    "model = MLPClassifier(activation='relu',solver= \"lbfgs\" ,alpha=1e-6, hidden_layer_sizes=(200, 100, 50))\n",
    "model.fit(xTrain_re,yTrain)"
   ]
  },
  {
   "cell_type": "markdown",
   "id": "677cdfb7",
   "metadata": {},
   "source": [
    "## 保存分类模型为mlpNN_pca.m"
   ]
  },
  {
   "cell_type": "code",
   "execution_count": 85,
   "id": "b6e41e69",
   "metadata": {},
   "outputs": [
    {
     "data": {
      "text/plain": [
       "['output/mlpNN_pca.m']"
      ]
     },
     "execution_count": 85,
     "metadata": {},
     "output_type": "execute_result"
    }
   ],
   "source": [
    "joblib.dump(model, \"output/mlpNN_pca.m\")"
   ]
  },
  {
   "cell_type": "markdown",
   "id": "bff08f5c",
   "metadata": {},
   "source": [
    "## 载入测试数据"
   ]
  },
  {
   "cell_type": "code",
   "execution_count": 86,
   "id": "26ad0b36",
   "metadata": {},
   "outputs": [],
   "source": [
    "data_test = np.loadtxt(r\"data/digits_testing.csv\",skiprows=1, delimiter=',')"
   ]
  },
  {
   "cell_type": "markdown",
   "id": "502c3742",
   "metadata": {},
   "source": [
    "### 查看前5行"
   ]
  },
  {
   "cell_type": "code",
   "execution_count": 66,
   "id": "6d857b1c",
   "metadata": {},
   "outputs": [
    {
     "data": {
      "text/plain": [
       "array([[8., 0., 0., ..., 0., 0., 0.],\n",
       "       [7., 0., 0., ..., 0., 0., 0.],\n",
       "       [2., 0., 0., ..., 0., 0., 0.],\n",
       "       [6., 0., 0., ..., 0., 0., 0.],\n",
       "       [3., 0., 0., ..., 0., 0., 0.]])"
      ]
     },
     "execution_count": 66,
     "metadata": {},
     "output_type": "execute_result"
    }
   ],
   "source": [
    "data_test[:5,:]"
   ]
  },
  {
   "cell_type": "markdown",
   "id": "1086d41c",
   "metadata": {},
   "source": [
    "### 查看数据集大小"
   ]
  },
  {
   "cell_type": "code",
   "execution_count": 67,
   "id": "4da6db67",
   "metadata": {},
   "outputs": [
    {
     "data": {
      "text/plain": [
       "500"
      ]
     },
     "execution_count": 67,
     "metadata": {},
     "output_type": "execute_result"
    }
   ],
   "source": [
    "data_test.shape[0]"
   ]
  },
  {
   "cell_type": "markdown",
   "id": "8d1115d0",
   "metadata": {},
   "source": [
    "## 标准化测试数据"
   ]
  },
  {
   "cell_type": "code",
   "execution_count": 87,
   "id": "2a379f98",
   "metadata": {},
   "outputs": [],
   "source": [
    "xTest = data_test[:, 1:]\n",
    "yTest = data_test[:, 0]"
   ]
  },
  {
   "cell_type": "code",
   "execution_count": 88,
   "id": "2bbc2178",
   "metadata": {},
   "outputs": [],
   "source": [
    "xTest = normalizeData(xTest)\n",
    "xTest_re = pca.transform(xTest)"
   ]
  },
  {
   "cell_type": "markdown",
   "id": "9301cb91",
   "metadata": {},
   "source": [
    "## 使用模型对测试集进行预测"
   ]
  },
  {
   "cell_type": "markdown",
   "id": "fffb49a7",
   "metadata": {},
   "source": [
    "### 载入模型"
   ]
  },
  {
   "cell_type": "code",
   "execution_count": 89,
   "id": "5e77649f",
   "metadata": {},
   "outputs": [],
   "source": [
    "model2 = joblib.load(\"output/mlpNN_pca.m\")"
   ]
  },
  {
   "cell_type": "markdown",
   "id": "0d09d627",
   "metadata": {},
   "source": [
    "### 预测模型"
   ]
  },
  {
   "cell_type": "code",
   "execution_count": 90,
   "id": "c5feef02",
   "metadata": {},
   "outputs": [],
   "source": [
    "pred = model2.predict(xTest_re)"
   ]
  },
  {
   "cell_type": "markdown",
   "id": "eade6858",
   "metadata": {},
   "source": [
    "### 打印错误数据"
   ]
  },
  {
   "cell_type": "code",
   "execution_count": 91,
   "id": "f803dd7a",
   "metadata": {},
   "outputs": [
    {
     "name": "stdout",
     "output_type": "stream",
     "text": [
      "error data: 47\n"
     ]
    }
   ],
   "source": [
    "print(\"error data:\",(pred != yTest).sum())"
   ]
  },
  {
   "cell_type": "markdown",
   "id": "9750d883",
   "metadata": {},
   "source": [
    "### 评价模型"
   ]
  },
  {
   "cell_type": "code",
   "execution_count": 92,
   "id": "6fb0228e",
   "metadata": {},
   "outputs": [
    {
     "name": "stdout",
     "output_type": "stream",
     "text": [
      "accuracy_predict; 0.906\n"
     ]
    }
   ],
   "source": [
    "print(\"accuracy_predict;\",accuracy_score(yTest,pred))"
   ]
  },
  {
   "cell_type": "code",
   "execution_count": null,
   "id": "8dc7e380",
   "metadata": {},
   "outputs": [],
   "source": []
  }
 ],
 "metadata": {
  "kernelspec": {
   "display_name": "Python 3",
   "language": "python",
   "name": "python3"
  },
  "language_info": {
   "codemirror_mode": {
    "name": "ipython",
    "version": 3
   },
   "file_extension": ".py",
   "mimetype": "text/x-python",
   "name": "python",
   "nbconvert_exporter": "python",
   "pygments_lexer": "ipython3",
   "version": "3.8.3"
  },
  "toc": {
   "base_numbering": 1,
   "nav_menu": {},
   "number_sections": true,
   "sideBar": true,
   "skip_h1_title": false,
   "title_cell": "Table of Contents",
   "title_sidebar": "Contents",
   "toc_cell": false,
   "toc_position": {},
   "toc_section_display": true,
   "toc_window_display": false
  },
  "varInspector": {
   "cols": {
    "lenName": 16,
    "lenType": 16,
    "lenVar": 40
   },
   "kernels_config": {
    "python": {
     "delete_cmd_postfix": "",
     "delete_cmd_prefix": "del ",
     "library": "var_list.py",
     "varRefreshCmd": "print(var_dic_list())"
    },
    "r": {
     "delete_cmd_postfix": ") ",
     "delete_cmd_prefix": "rm(",
     "library": "var_list.r",
     "varRefreshCmd": "cat(var_dic_list()) "
    }
   },
   "types_to_exclude": [
    "module",
    "function",
    "builtin_function_or_method",
    "instance",
    "_Feature"
   ],
   "window_display": false
  }
 },
 "nbformat": 4,
 "nbformat_minor": 5
}
