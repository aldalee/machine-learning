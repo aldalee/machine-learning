{
 "cells": [
  {
   "cell_type": "markdown",
   "id": "a770a736",
   "metadata": {},
   "source": [
    "# 实验七 使用SVM对手写体数字图片分类"
   ]
  },
  {
   "cell_type": "code",
   "execution_count": 4,
   "id": "a49a86bf",
   "metadata": {},
   "outputs": [],
   "source": [
    "import pandas as pd\n",
    "from sklearn import svm\n",
    "import joblib"
   ]
  },
  {
   "cell_type": "markdown",
   "id": "8bc90abe",
   "metadata": {},
   "source": [
    "## 载入训练数据、分出特征属性和类别，对特征属性标准化，显示读入数据的行数"
   ]
  },
  {
   "cell_type": "markdown",
   "id": "fa4cdd8c",
   "metadata": {},
   "source": [
    "### 载入训练数据"
   ]
  },
  {
   "cell_type": "code",
   "execution_count": 5,
   "id": "aec77aaf",
   "metadata": {},
   "outputs": [],
   "source": [
    "train_data = pd.read_csv ('data/digits_training.csv')"
   ]
  },
  {
   "cell_type": "code",
   "execution_count": 6,
   "id": "a01f0b77",
   "metadata": {},
   "outputs": [
    {
     "data": {
      "text/html": [
       "<div>\n",
       "<style scoped>\n",
       "    .dataframe tbody tr th:only-of-type {\n",
       "        vertical-align: middle;\n",
       "    }\n",
       "\n",
       "    .dataframe tbody tr th {\n",
       "        vertical-align: top;\n",
       "    }\n",
       "\n",
       "    .dataframe thead th {\n",
       "        text-align: right;\n",
       "    }\n",
       "</style>\n",
       "<table border=\"1\" class=\"dataframe\">\n",
       "  <thead>\n",
       "    <tr style=\"text-align: right;\">\n",
       "      <th></th>\n",
       "      <th>label</th>\n",
       "      <th>pixel0</th>\n",
       "      <th>pixel1</th>\n",
       "      <th>pixel2</th>\n",
       "      <th>pixel3</th>\n",
       "      <th>pixel4</th>\n",
       "      <th>pixel5</th>\n",
       "      <th>pixel6</th>\n",
       "      <th>pixel7</th>\n",
       "      <th>pixel8</th>\n",
       "      <th>...</th>\n",
       "      <th>pixel774</th>\n",
       "      <th>pixel775</th>\n",
       "      <th>pixel776</th>\n",
       "      <th>pixel777</th>\n",
       "      <th>pixel778</th>\n",
       "      <th>pixel779</th>\n",
       "      <th>pixel780</th>\n",
       "      <th>pixel781</th>\n",
       "      <th>pixel782</th>\n",
       "      <th>pixel783</th>\n",
       "    </tr>\n",
       "  </thead>\n",
       "  <tbody>\n",
       "    <tr>\n",
       "      <th>0</th>\n",
       "      <td>1</td>\n",
       "      <td>0</td>\n",
       "      <td>0</td>\n",
       "      <td>0</td>\n",
       "      <td>0</td>\n",
       "      <td>0</td>\n",
       "      <td>0</td>\n",
       "      <td>0</td>\n",
       "      <td>0</td>\n",
       "      <td>0</td>\n",
       "      <td>...</td>\n",
       "      <td>0</td>\n",
       "      <td>0</td>\n",
       "      <td>0</td>\n",
       "      <td>0</td>\n",
       "      <td>0</td>\n",
       "      <td>0</td>\n",
       "      <td>0</td>\n",
       "      <td>0</td>\n",
       "      <td>0</td>\n",
       "      <td>0</td>\n",
       "    </tr>\n",
       "    <tr>\n",
       "      <th>1</th>\n",
       "      <td>0</td>\n",
       "      <td>0</td>\n",
       "      <td>0</td>\n",
       "      <td>0</td>\n",
       "      <td>0</td>\n",
       "      <td>0</td>\n",
       "      <td>0</td>\n",
       "      <td>0</td>\n",
       "      <td>0</td>\n",
       "      <td>0</td>\n",
       "      <td>...</td>\n",
       "      <td>0</td>\n",
       "      <td>0</td>\n",
       "      <td>0</td>\n",
       "      <td>0</td>\n",
       "      <td>0</td>\n",
       "      <td>0</td>\n",
       "      <td>0</td>\n",
       "      <td>0</td>\n",
       "      <td>0</td>\n",
       "      <td>0</td>\n",
       "    </tr>\n",
       "    <tr>\n",
       "      <th>2</th>\n",
       "      <td>1</td>\n",
       "      <td>0</td>\n",
       "      <td>0</td>\n",
       "      <td>0</td>\n",
       "      <td>0</td>\n",
       "      <td>0</td>\n",
       "      <td>0</td>\n",
       "      <td>0</td>\n",
       "      <td>0</td>\n",
       "      <td>0</td>\n",
       "      <td>...</td>\n",
       "      <td>0</td>\n",
       "      <td>0</td>\n",
       "      <td>0</td>\n",
       "      <td>0</td>\n",
       "      <td>0</td>\n",
       "      <td>0</td>\n",
       "      <td>0</td>\n",
       "      <td>0</td>\n",
       "      <td>0</td>\n",
       "      <td>0</td>\n",
       "    </tr>\n",
       "    <tr>\n",
       "      <th>3</th>\n",
       "      <td>4</td>\n",
       "      <td>0</td>\n",
       "      <td>0</td>\n",
       "      <td>0</td>\n",
       "      <td>0</td>\n",
       "      <td>0</td>\n",
       "      <td>0</td>\n",
       "      <td>0</td>\n",
       "      <td>0</td>\n",
       "      <td>0</td>\n",
       "      <td>...</td>\n",
       "      <td>0</td>\n",
       "      <td>0</td>\n",
       "      <td>0</td>\n",
       "      <td>0</td>\n",
       "      <td>0</td>\n",
       "      <td>0</td>\n",
       "      <td>0</td>\n",
       "      <td>0</td>\n",
       "      <td>0</td>\n",
       "      <td>0</td>\n",
       "    </tr>\n",
       "    <tr>\n",
       "      <th>4</th>\n",
       "      <td>0</td>\n",
       "      <td>0</td>\n",
       "      <td>0</td>\n",
       "      <td>0</td>\n",
       "      <td>0</td>\n",
       "      <td>0</td>\n",
       "      <td>0</td>\n",
       "      <td>0</td>\n",
       "      <td>0</td>\n",
       "      <td>0</td>\n",
       "      <td>...</td>\n",
       "      <td>0</td>\n",
       "      <td>0</td>\n",
       "      <td>0</td>\n",
       "      <td>0</td>\n",
       "      <td>0</td>\n",
       "      <td>0</td>\n",
       "      <td>0</td>\n",
       "      <td>0</td>\n",
       "      <td>0</td>\n",
       "      <td>0</td>\n",
       "    </tr>\n",
       "  </tbody>\n",
       "</table>\n",
       "<p>5 rows × 785 columns</p>\n",
       "</div>"
      ],
      "text/plain": [
       "   label  pixel0  pixel1  pixel2  pixel3  pixel4  pixel5  pixel6  pixel7  \\\n",
       "0      1       0       0       0       0       0       0       0       0   \n",
       "1      0       0       0       0       0       0       0       0       0   \n",
       "2      1       0       0       0       0       0       0       0       0   \n",
       "3      4       0       0       0       0       0       0       0       0   \n",
       "4      0       0       0       0       0       0       0       0       0   \n",
       "\n",
       "   pixel8  ...  pixel774  pixel775  pixel776  pixel777  pixel778  pixel779  \\\n",
       "0       0  ...         0         0         0         0         0         0   \n",
       "1       0  ...         0         0         0         0         0         0   \n",
       "2       0  ...         0         0         0         0         0         0   \n",
       "3       0  ...         0         0         0         0         0         0   \n",
       "4       0  ...         0         0         0         0         0         0   \n",
       "\n",
       "   pixel780  pixel781  pixel782  pixel783  \n",
       "0         0         0         0         0  \n",
       "1         0         0         0         0  \n",
       "2         0         0         0         0  \n",
       "3         0         0         0         0  \n",
       "4         0         0         0         0  \n",
       "\n",
       "[5 rows x 785 columns]"
      ]
     },
     "execution_count": 6,
     "metadata": {},
     "output_type": "execute_result"
    }
   ],
   "source": [
    "train_data.head()"
   ]
  },
  {
   "cell_type": "markdown",
   "id": "b2e69771",
   "metadata": {},
   "source": [
    "### 分出特征属性和类别"
   ]
  },
  {
   "cell_type": "code",
   "execution_count": null,
   "id": "8f53b5e9",
   "metadata": {},
   "outputs": [],
   "source": [
    "# 分类属性\n",
    "yTrain = train_data.values[:,0]\n",
    "# 特征属性\n",
    "xTrain = train_data.values[:,1:]"
   ]
  },
  {
   "cell_type": "markdown",
   "id": "11a998ce",
   "metadata": {},
   "source": [
    "### 对特征属性标准化"
   ]
  },
  {
   "cell_type": "code",
   "execution_count": 7,
   "id": "ed8bb63a",
   "metadata": {},
   "outputs": [],
   "source": [
    "# 标准化函数\n",
    "def normalization(X):\n",
    "    return (X-X.mean())/X.max()"
   ]
  },
  {
   "cell_type": "code",
   "execution_count": 9,
   "id": "c9d24747",
   "metadata": {},
   "outputs": [
    {
     "data": {
      "text/plain": [
       "(5000, 784)"
      ]
     },
     "execution_count": 9,
     "metadata": {},
     "output_type": "execute_result"
    }
   ],
   "source": [
    "xTrain.shape"
   ]
  },
  {
   "cell_type": "code",
   "execution_count": 10,
   "id": "18a6d0c0",
   "metadata": {},
   "outputs": [],
   "source": [
    "# 对特征属性进行标准化处理\n",
    "xTrain = normalization(xTrain)"
   ]
  },
  {
   "cell_type": "markdown",
   "id": "0d55827e",
   "metadata": {},
   "source": [
    "### 训练数据条数"
   ]
  },
  {
   "cell_type": "code",
   "execution_count": 12,
   "id": "aa2dd0db",
   "metadata": {},
   "outputs": [
    {
     "data": {
      "text/plain": [
       "5000"
      ]
     },
     "execution_count": 12,
     "metadata": {},
     "output_type": "execute_result"
    }
   ],
   "source": [
    "xTrain.shape[0]"
   ]
  },
  {
   "cell_type": "markdown",
   "id": "6e875eb6",
   "metadata": {},
   "source": [
    "## 构建多分类SVM模型"
   ]
  },
  {
   "cell_type": "markdown",
   "id": "dbfe7929",
   "metadata": {},
   "source": [
    "'''\n",
    "默认核函数是 ‘rbf’-->就是radial basis function keranl (径向基核函数)\n",
    "模型准确率约为0.89\n",
    "使用线性核函数（linear）构建模型，准确率在0.908左右\n",
    "线性核函数主要用于线性可分的情况\n",
    "在特征数量相对于样本数量非常多的时候，适合采用线性核函数\n",
    "'''"
   ]
  },
  {
   "cell_type": "code",
   "execution_count": 13,
   "id": "3079ab13",
   "metadata": {},
   "outputs": [],
   "source": [
    "model = svm.SVC(decision_function_shape='ovo',kernel='linear')"
   ]
  },
  {
   "cell_type": "markdown",
   "id": "4f2620a3",
   "metadata": {},
   "source": [
    "## 训练模型"
   ]
  },
  {
   "cell_type": "code",
   "execution_count": 14,
   "id": "ed080ac2",
   "metadata": {},
   "outputs": [
    {
     "data": {
      "text/plain": [
       "SVC(decision_function_shape='ovo', kernel='linear')"
      ]
     },
     "execution_count": 14,
     "metadata": {},
     "output_type": "execute_result"
    }
   ],
   "source": [
    "model.fit(xTrain,yTrain)"
   ]
  },
  {
   "cell_type": "markdown",
   "id": "85fdb5ad",
   "metadata": {},
   "source": [
    "## 保存模型"
   ]
  },
  {
   "cell_type": "code",
   "execution_count": 15,
   "id": "81d55e80",
   "metadata": {},
   "outputs": [
    {
     "data": {
      "text/plain": [
       "['output/svm_classifier_model1.m']"
      ]
     },
     "execution_count": 15,
     "metadata": {},
     "output_type": "execute_result"
    }
   ],
   "source": [
    "joblib.dump(model,\"output/svm_classifier_model1.m\")"
   ]
  },
  {
   "cell_type": "markdown",
   "id": "5f03bb47",
   "metadata": {},
   "source": [
    "## 载入测试数据，分出特征属性和类别，对特征属性标准化，显示读入数据的行数"
   ]
  },
  {
   "cell_type": "code",
   "execution_count": 16,
   "id": "db4dcc8f",
   "metadata": {},
   "outputs": [
    {
     "name": "stdout",
     "output_type": "stream",
     "text": [
      "测试数据： 500 条\n"
     ]
    }
   ],
   "source": [
    "test_data = pd.read_csv(\"data/digits_testing.csv\")\n",
    "yTest = test_data.values[:,0]\n",
    "xTest = test_data.values[:,1:]\n",
    "print(\"测试数据：\",xTest.shape[0],\"条\")\n",
    "xTest = normalization(xTest)"
   ]
  },
  {
   "cell_type": "markdown",
   "id": "4974deff",
   "metadata": {},
   "source": [
    "## 使用模型对测试集进行预测，显示预测错误数据的数目、预测数据的准确率和模型内建正确率"
   ]
  },
  {
   "cell_type": "code",
   "execution_count": 17,
   "id": "a78d85e1",
   "metadata": {},
   "outputs": [
    {
     "name": "stdout",
     "output_type": "stream",
     "text": [
      "预测错误数据： 48\n",
      "测试数据正确率： 0.904\n",
      "模型内构建正确率估计： 0.904\n"
     ]
    }
   ],
   "source": [
    "model = joblib.load(\"output/svm_classifier_model1.m\")\n",
    "result =model.predict(xTest)\n",
    "print(\"预测错误数据：\",(result!=yTest).sum())\n",
    "print(\"测试数据正确率：\",(result==yTest).sum()/len(yTest))\n",
    "print(\"模型内构建正确率估计：\",model.score(xTest,yTest))"
   ]
  },
  {
   "cell_type": "code",
   "execution_count": null,
   "id": "0bbd614a",
   "metadata": {},
   "outputs": [],
   "source": []
  },
  {
   "cell_type": "code",
   "execution_count": null,
   "id": "072bf8d3",
   "metadata": {},
   "outputs": [],
   "source": []
  }
 ],
 "metadata": {
  "kernelspec": {
   "display_name": "Python 3",
   "language": "python",
   "name": "python3"
  },
  "language_info": {
   "codemirror_mode": {
    "name": "ipython",
    "version": 3
   },
   "file_extension": ".py",
   "mimetype": "text/x-python",
   "name": "python",
   "nbconvert_exporter": "python",
   "pygments_lexer": "ipython3",
   "version": "3.8.3"
  },
  "toc": {
   "base_numbering": 1,
   "nav_menu": {},
   "number_sections": true,
   "sideBar": true,
   "skip_h1_title": false,
   "title_cell": "Table of Contents",
   "title_sidebar": "Contents",
   "toc_cell": false,
   "toc_position": {},
   "toc_section_display": true,
   "toc_window_display": false
  },
  "varInspector": {
   "cols": {
    "lenName": 16,
    "lenType": 16,
    "lenVar": 40
   },
   "kernels_config": {
    "python": {
     "delete_cmd_postfix": "",
     "delete_cmd_prefix": "del ",
     "library": "var_list.py",
     "varRefreshCmd": "print(var_dic_list())"
    },
    "r": {
     "delete_cmd_postfix": ") ",
     "delete_cmd_prefix": "rm(",
     "library": "var_list.r",
     "varRefreshCmd": "cat(var_dic_list()) "
    }
   },
   "types_to_exclude": [
    "module",
    "function",
    "builtin_function_or_method",
    "instance",
    "_Feature"
   ],
   "window_display": false
  }
 },
 "nbformat": 4,
 "nbformat_minor": 5
}
