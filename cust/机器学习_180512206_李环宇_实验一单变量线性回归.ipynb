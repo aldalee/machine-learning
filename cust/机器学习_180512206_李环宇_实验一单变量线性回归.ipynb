{
 "cells": [
  {
   "cell_type": "markdown",
   "id": "5e8c4a06",
   "metadata": {},
   "source": [
    "# 实验一：单变量线性回归"
   ]
  },
  {
   "cell_type": "code",
   "execution_count": 1,
   "id": "f276d511",
   "metadata": {},
   "outputs": [],
   "source": [
    "import numpy as np\n",
    "import matplotlib.pyplot as plt\n",
    "from sklearn.linear_model import LinearRegression\n",
    "%matplotlib inline"
   ]
  },
  {
   "cell_type": "markdown",
   "id": "a66840d0",
   "metadata": {},
   "source": [
    "## 画直径X和价格Y的散点图"
   ]
  },
  {
   "cell_type": "code",
   "execution_count": 2,
   "id": "57336c53",
   "metadata": {},
   "outputs": [],
   "source": [
    "def initPlot():\n",
    "    plt.figure()          \n",
    "    plt.title('180512206-李环宇-Pizza Price vs Diameter')  \n",
    "    plt.rcParams['font.sans-serif'] = ['SimHei'] # 正常显示中文\n",
    "    plt.rcParams['axes.unicode_minus'] = False # 正常显示负号\n",
    "    plt.xlabel('Diameter')  \n",
    "    plt.ylabel('Price')   \n",
    "    plt.axis([0, 25, 0, 25])        \n",
    "    plt.grid(True)\n",
    "    return plt"
   ]
  },
  {
   "cell_type": "code",
   "execution_count": 4,
   "id": "6bd79c73",
   "metadata": {},
   "outputs": [
    {
     "data": {
      "text/plain": [
       "[<matplotlib.lines.Line2D at 0x1e35e79ad60>]"
      ]
     },
     "execution_count": 4,
     "metadata": {},
     "output_type": "execute_result"
    },
    {
     "data": {
      "image/png": "[encoded data removed]",
      "text/plain": [
       "<Figure size 432x288 with 1 Axes>"
      ]
     },
     "metadata": {
      "needs_background": "light"
     },
     "output_type": "display_data"
    }
   ],
   "source": [
    "plt = initPlot()    \n",
    "plt.plot(x_train, y_train, 'k.')         #k是黑色，.是以点作为图上显示\n",
    "plt.savefig('output/实验1.1.png',dpi=80)"
   ]
  },
  {
   "cell_type": "code",
   "execution_count": 104,
   "id": "efd87967",
   "metadata": {},
   "outputs": [],
   "source": [
    "plt.show()"
   ]
  },
  {
   "cell_type": "markdown",
   "id": "48c4146b",
   "metadata": {},
   "source": [
    "1.价格𝑦随着直径𝑥的变化，大致呈现线性变化；\n",
    "2.如果根据现有的训练数据能够拟合出一条直线，使之与这些训练数据的各点都比较接近，那么根据该直线，就可以计算出在任意直径披萨的价格。"
   ]
  },
  {
   "cell_type": "markdown",
   "id": "cb762144",
   "metadata": {},
   "source": [
    "## 训练模型"
   ]
  },
  {
   "cell_type": "markdown",
   "id": "7fc53b42",
   "metadata": {},
   "source": [
    "### 准备训练数据"
   ]
  },
  {
   "cell_type": "code",
   "execution_count": 3,
   "id": "b8d94a54",
   "metadata": {},
   "outputs": [],
   "source": [
    "x_train = np.array([6,8,10,14,18])[:,np.newaxis]\n",
    "y_train = np.array([7,9,13,17.5,18])"
   ]
  },
  {
   "cell_type": "markdown",
   "id": "9e267ef6",
   "metadata": {},
   "source": [
    "### 构建线性模型"
   ]
  },
  {
   "cell_type": "code",
   "execution_count": 5,
   "id": "7cd406b2",
   "metadata": {},
   "outputs": [],
   "source": [
    "lmodel = LinearRegression()"
   ]
  },
  {
   "cell_type": "markdown",
   "id": "90c7a6e5",
   "metadata": {},
   "source": [
    "### 求线性方程的截距和斜率"
   ]
  },
  {
   "cell_type": "code",
   "execution_count": 6,
   "id": "53ee569a",
   "metadata": {},
   "outputs": [],
   "source": [
    "# 根据训练数据拟合出直线,以得到假设函数\n",
    "hypothesis = lmodel.fit(x_train, y_train)"
   ]
  },
  {
   "cell_type": "code",
   "execution_count": 7,
   "id": "db915d60",
   "metadata": {},
   "outputs": [
    {
     "name": "stdout",
     "output_type": "stream",
     "text": [
      "截距= 1.965517241379315\n",
      "斜率= [0.9762931]\n"
     ]
    }
   ],
   "source": [
    "print(\"截距=\", hypothesis.intercept_)  \n",
    "print(\"斜率=\", hypothesis.coef_)        "
   ]
  },
  {
   "cell_type": "markdown",
   "id": "13ab30c8",
   "metadata": {},
   "source": [
    "### 画拟合直线"
   ]
  },
  {
   "cell_type": "code",
   "execution_count": 13,
   "id": "11e0fee4",
   "metadata": {},
   "outputs": [
    {
     "data": {
      "text/plain": [
       "[<matplotlib.lines.Line2D at 0x1e35f0c7ca0>]"
      ]
     },
     "execution_count": 13,
     "metadata": {},
     "output_type": "execute_result"
    },
    {
     "data": {
      "text/plain": [
       "[<matplotlib.lines.Line2D at 0x1e3600cc910>]"
      ]
     },
     "execution_count": 13,
     "metadata": {},
     "output_type": "execute_result"
    },
    {
     "data": {
      "image/png": "[encoded data removed]",
      "text/plain": [
       "<Figure size 432x288 with 1 Axes>"
      ]
     },
     "metadata": {
      "needs_background": "light"
     },
     "output_type": "display_data"
    }
   ],
   "source": [
    "plt = initPlot()\n",
    "plt.plot(x_train, y_train, 'k.')\n",
    "plt.plot(x_predictDiam, y_predictPrim, 'g-')\n",
    "plt.savefig('output/实验1.2.png',dpi=80)"
   ]
  },
  {
   "cell_type": "markdown",
   "id": "7191c523",
   "metadata": {},
   "source": [
    "## 模型预测"
   ]
  },
  {
   "cell_type": "markdown",
   "id": "e713a416",
   "metadata": {},
   "source": [
    "### 预测测12英寸披萨的价格"
   ]
  },
  {
   "cell_type": "code",
   "execution_count": 9,
   "id": "b5428ec0",
   "metadata": {},
   "outputs": [],
   "source": [
    "predictPrice = lmodel.predict([[12]])"
   ]
  },
  {
   "cell_type": "code",
   "execution_count": 10,
   "id": "d2ad2ebf",
   "metadata": {},
   "outputs": [
    {
     "name": "stdout",
     "output_type": "stream",
     "text": [
      "twelve inch pizza price 13.681034\n"
     ]
    }
   ],
   "source": [
    "print('twelve inch pizza price %f' % predictPrice)"
   ]
  },
  {
   "cell_type": "markdown",
   "id": "890904ae",
   "metadata": {},
   "source": [
    "### 批量预测多个直径"
   ]
  },
  {
   "cell_type": "code",
   "execution_count": 11,
   "id": "da2d2562",
   "metadata": {},
   "outputs": [],
   "source": [
    "x_predictDiam = np.array([8,9,11,12,16])[:,np.newaxis]\n",
    "y_predictPrim = lmodel.predict(x_predictDiam)"
   ]
  },
  {
   "cell_type": "code",
   "execution_count": 12,
   "id": "7aa93ea9",
   "metadata": {},
   "outputs": [
    {
     "data": {
      "text/plain": [
       "array([[ 8],\n",
       "       [ 9],\n",
       "       [11],\n",
       "       [12],\n",
       "       [16]])"
      ]
     },
     "execution_count": 12,
     "metadata": {},
     "output_type": "execute_result"
    }
   ],
   "source": [
    "x_predictDiam"
   ]
  },
  {
   "cell_type": "code",
   "execution_count": 72,
   "id": "922a240f",
   "metadata": {},
   "outputs": [
    {
     "data": {
      "text/plain": [
       "array([ 9.77586207, 10.75215517, 12.70474138, 13.68103448, 17.5862069 ])"
      ]
     },
     "execution_count": 72,
     "metadata": {},
     "output_type": "execute_result"
    }
   ],
   "source": [
    "y_predictPrim"
   ]
  },
  {
   "cell_type": "markdown",
   "id": "d8cb5eab",
   "metadata": {},
   "source": [
    "## 评价分析模型"
   ]
  },
  {
   "cell_type": "markdown",
   "id": "73b035b7",
   "metadata": {},
   "source": [
    "### 准备测试数据"
   ]
  },
  {
   "cell_type": "code",
   "execution_count": 14,
   "id": "f1828894",
   "metadata": {},
   "outputs": [],
   "source": [
    "x_test = np.array([8,9,11,12,16])[:,np.newaxis]\n",
    "y_test = np.array([8.5,11,12,15,18])"
   ]
  },
  {
   "cell_type": "code",
   "execution_count": 15,
   "id": "ce65ffe2",
   "metadata": {},
   "outputs": [],
   "source": [
    "hpyTrain = lmodel.predict(x_train)\n",
    "hpyTest = lmodel.predict(x_test)"
   ]
  },
  {
   "cell_type": "markdown",
   "id": "91e5de95",
   "metadata": {},
   "source": [
    "###  手动计算训练数据集残差"
   ]
  },
  {
   "cell_type": "code",
   "execution_count": 16,
   "id": "277d1af0",
   "metadata": {},
   "outputs": [],
   "source": [
    "ssResTrain = sum((hpyTrain - y_train)**2)                "
   ]
  },
  {
   "cell_type": "code",
   "execution_count": 17,
   "id": "0c1cede2",
   "metadata": {},
   "outputs": [
    {
     "data": {
      "text/plain": [
       "8.747844827586203"
      ]
     },
     "execution_count": 17,
     "metadata": {},
     "output_type": "execute_result"
    }
   ],
   "source": [
    "ssResTrain"
   ]
  },
  {
   "cell_type": "markdown",
   "id": "0c39ee87",
   "metadata": {},
   "source": [
    "### Python计算的训练数据集残差"
   ]
  },
  {
   "cell_type": "code",
   "execution_count": 18,
   "id": "61826fa3",
   "metadata": {},
   "outputs": [
    {
     "data": {
      "text/plain": [
       "8.747844827586201"
      ]
     },
     "execution_count": 18,
     "metadata": {},
     "output_type": "execute_result"
    }
   ],
   "source": [
    "lmodel._residues"
   ]
  },
  {
   "cell_type": "markdown",
   "id": "7abe556d",
   "metadata": {},
   "source": [
    "### 手动计算测试数据集残差"
   ]
  },
  {
   "cell_type": "code",
   "execution_count": 19,
   "id": "1fb81121",
   "metadata": {},
   "outputs": [],
   "source": [
    "ssResTest = sum((hpyTest - y_test)**2)"
   ]
  },
  {
   "cell_type": "markdown",
   "id": "f6960a2c",
   "metadata": {},
   "source": [
    "### 手动计算测试数据集y值偏差平方和"
   ]
  },
  {
   "cell_type": "code",
   "execution_count": 20,
   "id": "8b118cbb",
   "metadata": {},
   "outputs": [],
   "source": [
    "ssTotTest = sum((y_test - np.mean(y_test))**2)"
   ]
  },
  {
   "cell_type": "markdown",
   "id": "bcf5e39c",
   "metadata": {},
   "source": [
    "### 手动计算R方"
   ]
  },
  {
   "cell_type": "code",
   "execution_count": 21,
   "id": "004e2c48",
   "metadata": {},
   "outputs": [],
   "source": [
    "Rsquare = 1 - ssResTest / ssTotTest"
   ]
  },
  {
   "cell_type": "code",
   "execution_count": 22,
   "id": "dc87cfbe",
   "metadata": {},
   "outputs": [
    {
     "data": {
      "text/plain": [
       "0.9244131686820731"
      ]
     },
     "execution_count": 22,
     "metadata": {},
     "output_type": "execute_result"
    }
   ],
   "source": [
    "Rsquare"
   ]
  },
  {
   "cell_type": "markdown",
   "id": "bf0c7876",
   "metadata": {},
   "source": [
    "### Python计算的训练数据集的R方"
   ]
  },
  {
   "cell_type": "code",
   "execution_count": 23,
   "id": "6c597420",
   "metadata": {},
   "outputs": [
    {
     "data": {
      "text/plain": [
       "0.9244131686820731"
      ]
     },
     "execution_count": 23,
     "metadata": {},
     "output_type": "execute_result"
    }
   ],
   "source": [
    "lmodel.score(x_test, y_test)"
   ]
  },
  {
   "cell_type": "markdown",
   "id": "1c718b74",
   "metadata": {},
   "source": [
    "### corrcoef函数计算各行元素之间相关性"
   ]
  },
  {
   "cell_type": "code",
   "execution_count": 24,
   "id": "d91fa7b6",
   "metadata": {},
   "outputs": [
    {
     "name": "stdout",
     "output_type": "stream",
     "text": [
      "[[1.         0.95394004]\n",
      " [0.95394004 1.        ]]\n"
     ]
    }
   ],
   "source": [
    "print(np.corrcoef(x_train.T, y_train.T))            # 计算训练数据的相关性"
   ]
  },
  {
   "cell_type": "code",
   "execution_count": 93,
   "id": "59906c38",
   "metadata": {},
   "outputs": [
    {
     "name": "stdout",
     "output_type": "stream",
     "text": [
      "[[1.        0.9725666]\n",
      " [0.9725666 1.       ]]\n"
     ]
    }
   ],
   "source": [
    "print(np.corrcoef(x_test.T, y_test.T))              # 计算测试数据的相关性"
   ]
  },
  {
   "cell_type": "markdown",
   "id": "eb50ec36",
   "metadata": {},
   "source": [
    "### 画图"
   ]
  },
  {
   "cell_type": "code",
   "execution_count": 25,
   "id": "a7ed4430",
   "metadata": {},
   "outputs": [
    {
     "data": {
      "text/plain": [
       "[<matplotlib.lines.Line2D at 0x1e360129790>]"
      ]
     },
     "execution_count": 25,
     "metadata": {},
     "output_type": "execute_result"
    },
    {
     "data": {
      "text/plain": [
       "[<matplotlib.lines.Line2D at 0x1e3605475b0>]"
      ]
     },
     "execution_count": 25,
     "metadata": {},
     "output_type": "execute_result"
    },
    {
     "data": {
      "text/plain": [
       "[<matplotlib.lines.Line2D at 0x1e36054c340>]"
      ]
     },
     "execution_count": 25,
     "metadata": {},
     "output_type": "execute_result"
    },
    {
     "data": {
      "image/png": "[encoded data removed]",
      "text/plain": [
       "<Figure size 432x288 with 1 Axes>"
      ]
     },
     "metadata": {
      "needs_background": "light"
     },
     "output_type": "display_data"
    }
   ],
   "source": [
    "plt = initPlot()\n",
    "plt.plot(x_train, y_train, 'r.')          # 训练点数据(红色)\n",
    "plt.plot(x_test, y_test, 'b.')            # 测试点数据(蓝色)\n",
    "plt.plot(x_train, hpyTrain, 'g-')        # 假设函数直线(绿色)\n",
    "plt.savefig('output/实验1.3.png',dpi=80)\n",
    "plt.show()"
   ]
  },
  {
   "cell_type": "markdown",
   "id": "81f98a26",
   "metadata": {},
   "source": [
    "### 模型准确率"
   ]
  },
  {
   "cell_type": "code",
   "execution_count": 26,
   "id": "179f5de0",
   "metadata": {},
   "outputs": [
    {
     "name": "stdout",
     "output_type": "stream",
     "text": [
      "model score =  0.9244131686820731\n"
     ]
    }
   ],
   "source": [
    "print('model score = ', lmodel.score(x_test, y_test))"
   ]
  },
  {
   "cell_type": "code",
   "execution_count": null,
   "id": "0f2d2823",
   "metadata": {},
   "outputs": [],
   "source": []
  }
 ],
 "metadata": {
  "kernelspec": {
   "display_name": "Python 3",
   "language": "python",
   "name": "python3"
  },
  "language_info": {
   "codemirror_mode": {
    "name": "ipython",
    "version": 3
   },
   "file_extension": ".py",
   "mimetype": "text/x-python",
   "name": "python",
   "nbconvert_exporter": "python",
   "pygments_lexer": "ipython3",
   "version": "3.8.3"
  },
  "toc": {
   "base_numbering": 1,
   "nav_menu": {},
   "number_sections": true,
   "sideBar": true,
   "skip_h1_title": false,
   "title_cell": "Table of Contents",
   "title_sidebar": "Contents",
   "toc_cell": false,
   "toc_position": {},
   "toc_section_display": true,
   "toc_window_display": false
  },
  "varInspector": {
   "cols": {
    "lenName": 16,
    "lenType": 16,
    "lenVar": 40
   },
   "kernels_config": {
    "python": {
     "delete_cmd_postfix": "",
     "delete_cmd_prefix": "del ",
     "library": "var_list.py",
     "varRefreshCmd": "print(var_dic_list())"
    },
    "r": {
     "delete_cmd_postfix": ") ",
     "delete_cmd_prefix": "rm(",
     "library": "var_list.r",
     "varRefreshCmd": "cat(var_dic_list()) "
    }
   },
   "types_to_exclude": [
    "module",
    "function",
    "builtin_function_or_method",
    "instance",
    "_Feature"
   ],
   "window_display": false
  }
 },
 "nbformat": 4,
 "nbformat_minor": 5
}
