{
 "cells": [
  {
   "cell_type": "markdown",
   "id": "8f7712c9",
   "metadata": {},
   "source": [
    "# 实验三 对航空公司客户价值进行聚类分析"
   ]
  },
  {
   "cell_type": "code",
   "execution_count": 2,
   "id": "2cc5cdd3",
   "metadata": {},
   "outputs": [],
   "source": [
    "from sklearn.cluster import KMeans\n",
    "import pandas as pd\n",
    "import matplotlib.pyplot as plt\n",
    "import numpy as np\n",
    "from collections import  Counter"
   ]
  },
  {
   "cell_type": "markdown",
   "id": "595c6b88",
   "metadata": {},
   "source": [
    "## 载入训练数据、显示读入数据的前5行"
   ]
  },
  {
   "cell_type": "code",
   "execution_count": 3,
   "id": "d7ac94e1",
   "metadata": {},
   "outputs": [],
   "source": [
    "data=pd.read_csv(r'data/air_data.csv')"
   ]
  },
  {
   "cell_type": "code",
   "execution_count": 18,
   "id": "d27799d5",
   "metadata": {},
   "outputs": [
    {
     "data": {
      "text/plain": [
       "(62051, 5)"
      ]
     },
     "execution_count": 18,
     "metadata": {},
     "output_type": "execute_result"
    }
   ],
   "source": [
    "data.shape"
   ]
  },
  {
   "cell_type": "code",
   "execution_count": 19,
   "id": "09ff00e8",
   "metadata": {},
   "outputs": [
    {
     "data": {
      "text/html": [
       "<div>\n",
       "<style scoped>\n",
       "    .dataframe tbody tr th:only-of-type {\n",
       "        vertical-align: middle;\n",
       "    }\n",
       "\n",
       "    .dataframe tbody tr th {\n",
       "        vertical-align: top;\n",
       "    }\n",
       "\n",
       "    .dataframe thead th {\n",
       "        text-align: right;\n",
       "    }\n",
       "</style>\n",
       "<table border=\"1\" class=\"dataframe\">\n",
       "  <thead>\n",
       "    <tr style=\"text-align: right;\">\n",
       "      <th></th>\n",
       "      <th>ZL</th>\n",
       "      <th>ZR</th>\n",
       "      <th>ZF</th>\n",
       "      <th>ZM</th>\n",
       "      <th>ZC</th>\n",
       "    </tr>\n",
       "  </thead>\n",
       "  <tbody>\n",
       "    <tr>\n",
       "      <th>0</th>\n",
       "      <td>1.445701</td>\n",
       "      <td>-0.944998</td>\n",
       "      <td>14.034510</td>\n",
       "      <td>26.762112</td>\n",
       "      <td>1.294939</td>\n",
       "    </tr>\n",
       "    <tr>\n",
       "      <th>1</th>\n",
       "      <td>1.304181</td>\n",
       "      <td>-0.911945</td>\n",
       "      <td>9.073559</td>\n",
       "      <td>13.127371</td>\n",
       "      <td>2.866311</td>\n",
       "    </tr>\n",
       "    <tr>\n",
       "      <th>2</th>\n",
       "      <td>1.339561</td>\n",
       "      <td>-0.889910</td>\n",
       "      <td>8.719206</td>\n",
       "      <td>12.653972</td>\n",
       "      <td>2.879075</td>\n",
       "    </tr>\n",
       "    <tr>\n",
       "      <th>3</th>\n",
       "      <td>0.667342</td>\n",
       "      <td>-0.416159</td>\n",
       "      <td>0.781685</td>\n",
       "      <td>12.541109</td>\n",
       "      <td>1.993551</td>\n",
       "    </tr>\n",
       "    <tr>\n",
       "      <th>4</th>\n",
       "      <td>0.384302</td>\n",
       "      <td>-0.922963</td>\n",
       "      <td>9.924008</td>\n",
       "      <td>13.899268</td>\n",
       "      <td>1.343695</td>\n",
       "    </tr>\n",
       "  </tbody>\n",
       "</table>\n",
       "</div>"
      ],
      "text/plain": [
       "         ZL        ZR         ZF         ZM        ZC\n",
       "0  1.445701 -0.944998  14.034510  26.762112  1.294939\n",
       "1  1.304181 -0.911945   9.073559  13.127371  2.866311\n",
       "2  1.339561 -0.889910   8.719206  12.653972  2.879075\n",
       "3  0.667342 -0.416159   0.781685  12.541109  1.993551\n",
       "4  0.384302 -0.922963   9.924008  13.899268  1.343695"
      ]
     },
     "execution_count": 19,
     "metadata": {},
     "output_type": "execute_result"
    }
   ],
   "source": [
    "data.head(5)"
   ]
  },
  {
   "cell_type": "markdown",
   "id": "624ca051",
   "metadata": {},
   "source": [
    "## 训练KMeans聚类模型，把数据聚成5类"
   ]
  },
  {
   "cell_type": "markdown",
   "id": "b7ad2bc0",
   "metadata": {},
   "source": [
    "### 建立模型"
   ]
  },
  {
   "cell_type": "code",
   "execution_count": 4,
   "id": "6fff4d96",
   "metadata": {},
   "outputs": [],
   "source": [
    "k = 5\n",
    "model = KMeans(algorithm='auto', \n",
    "               copy_x=True, \n",
    "               init='k-means++',\n",
    "               max_iter=300, \n",
    "               n_clusters=k, \n",
    "               n_init=10, \n",
    "               random_state=None, \n",
    "               tol=0.0001,\n",
    "               verbose=0)"
   ]
  },
  {
   "cell_type": "markdown",
   "id": "8f113970",
   "metadata": {},
   "source": [
    "### 训练模型"
   ]
  },
  {
   "cell_type": "code",
   "execution_count": 5,
   "id": "1332715f",
   "metadata": {},
   "outputs": [
    {
     "data": {
      "text/plain": [
       "KMeans(n_clusters=5)"
      ]
     },
     "execution_count": 5,
     "metadata": {},
     "output_type": "execute_result"
    }
   ],
   "source": [
    "model.fit(data)"
   ]
  },
  {
   "cell_type": "markdown",
   "id": "a2153285",
   "metadata": {},
   "source": [
    "## 使用KMeans模型对航空公司客户价值进行聚类分析"
   ]
  },
  {
   "cell_type": "markdown",
   "id": "c4a4f701",
   "metadata": {},
   "source": [
    "### 查看每个聚类类别的样本数量"
   ]
  },
  {
   "cell_type": "code",
   "execution_count": 11,
   "id": "e3b50277",
   "metadata": {},
   "outputs": [
    {
     "data": {
      "text/plain": [
       "array([4, 4, 4, ..., 3, 1, 2])"
      ]
     },
     "execution_count": 11,
     "metadata": {},
     "output_type": "execute_result"
    }
   ],
   "source": [
    "model.labels_"
   ]
  },
  {
   "cell_type": "code",
   "execution_count": 12,
   "id": "dadaad69",
   "metadata": {},
   "outputs": [
    {
     "data": {
      "text/plain": [
       "Counter({4: 5334, 0: 4198, 1: 15742, 3: 24638, 2: 12139})"
      ]
     },
     "execution_count": 12,
     "metadata": {},
     "output_type": "execute_result"
    }
   ],
   "source": [
    "Counter(model.labels_)"
   ]
  },
  {
   "cell_type": "code",
   "execution_count": 63,
   "id": "b912b3c2",
   "metadata": {},
   "outputs": [
    {
     "data": {
      "text/plain": [
       "62051"
      ]
     },
     "execution_count": 63,
     "metadata": {},
     "output_type": "execute_result"
    }
   ],
   "source": [
    "model.labels_.size"
   ]
  },
  {
   "cell_type": "markdown",
   "id": "3ae56db3",
   "metadata": {},
   "source": [
    "### 查看聚类类别"
   ]
  },
  {
   "cell_type": "code",
   "execution_count": 13,
   "id": "abb1c078",
   "metadata": {},
   "outputs": [],
   "source": [
    "r = pd.concat([data, pd.Series(model.labels_, index=data.index)], axis=1)\n",
    "r.columns = list(data.columns) + ['聚类类别']"
   ]
  },
  {
   "cell_type": "code",
   "execution_count": 14,
   "id": "78600410",
   "metadata": {},
   "outputs": [
    {
     "data": {
      "text/html": [
       "<div>\n",
       "<style scoped>\n",
       "    .dataframe tbody tr th:only-of-type {\n",
       "        vertical-align: middle;\n",
       "    }\n",
       "\n",
       "    .dataframe tbody tr th {\n",
       "        vertical-align: top;\n",
       "    }\n",
       "\n",
       "    .dataframe thead th {\n",
       "        text-align: right;\n",
       "    }\n",
       "</style>\n",
       "<table border=\"1\" class=\"dataframe\">\n",
       "  <thead>\n",
       "    <tr style=\"text-align: right;\">\n",
       "      <th></th>\n",
       "      <th>ZL</th>\n",
       "      <th>ZR</th>\n",
       "      <th>ZF</th>\n",
       "      <th>ZM</th>\n",
       "      <th>ZC</th>\n",
       "      <th>聚类类别</th>\n",
       "    </tr>\n",
       "  </thead>\n",
       "  <tbody>\n",
       "    <tr>\n",
       "      <th>0</th>\n",
       "      <td>1.445701</td>\n",
       "      <td>-0.944998</td>\n",
       "      <td>14.034510</td>\n",
       "      <td>26.762112</td>\n",
       "      <td>1.294939</td>\n",
       "      <td>4</td>\n",
       "    </tr>\n",
       "    <tr>\n",
       "      <th>1</th>\n",
       "      <td>1.304181</td>\n",
       "      <td>-0.911945</td>\n",
       "      <td>9.073559</td>\n",
       "      <td>13.127371</td>\n",
       "      <td>2.866311</td>\n",
       "      <td>4</td>\n",
       "    </tr>\n",
       "    <tr>\n",
       "      <th>2</th>\n",
       "      <td>1.339561</td>\n",
       "      <td>-0.889910</td>\n",
       "      <td>8.719206</td>\n",
       "      <td>12.653972</td>\n",
       "      <td>2.879075</td>\n",
       "      <td>4</td>\n",
       "    </tr>\n",
       "    <tr>\n",
       "      <th>3</th>\n",
       "      <td>0.667342</td>\n",
       "      <td>-0.416159</td>\n",
       "      <td>0.781685</td>\n",
       "      <td>12.541109</td>\n",
       "      <td>1.993551</td>\n",
       "      <td>4</td>\n",
       "    </tr>\n",
       "    <tr>\n",
       "      <th>4</th>\n",
       "      <td>0.384302</td>\n",
       "      <td>-0.922963</td>\n",
       "      <td>9.924008</td>\n",
       "      <td>13.899268</td>\n",
       "      <td>1.343695</td>\n",
       "      <td>4</td>\n",
       "    </tr>\n",
       "    <tr>\n",
       "      <th>...</th>\n",
       "      <td>...</td>\n",
       "      <td>...</td>\n",
       "      <td>...</td>\n",
       "      <td>...</td>\n",
       "      <td>...</td>\n",
       "      <td>...</td>\n",
       "    </tr>\n",
       "    <tr>\n",
       "      <th>62046</th>\n",
       "      <td>-1.243176</td>\n",
       "      <td>1.456811</td>\n",
       "      <td>-0.706600</td>\n",
       "      <td>-0.639947</td>\n",
       "      <td>-3.903618</td>\n",
       "      <td>2</td>\n",
       "    </tr>\n",
       "    <tr>\n",
       "      <th>62047</th>\n",
       "      <td>-0.535577</td>\n",
       "      <td>0.685588</td>\n",
       "      <td>-0.706600</td>\n",
       "      <td>-0.768866</td>\n",
       "      <td>-3.903618</td>\n",
       "      <td>2</td>\n",
       "    </tr>\n",
       "    <tr>\n",
       "      <th>62048</th>\n",
       "      <td>-0.004877</td>\n",
       "      <td>-0.460229</td>\n",
       "      <td>-0.564859</td>\n",
       "      <td>-0.441962</td>\n",
       "      <td>-3.903618</td>\n",
       "      <td>3</td>\n",
       "    </tr>\n",
       "    <tr>\n",
       "      <th>62049</th>\n",
       "      <td>1.693361</td>\n",
       "      <td>-0.790753</td>\n",
       "      <td>-0.706600</td>\n",
       "      <td>-0.699514</td>\n",
       "      <td>-3.903618</td>\n",
       "      <td>1</td>\n",
       "    </tr>\n",
       "    <tr>\n",
       "      <th>62050</th>\n",
       "      <td>-1.278556</td>\n",
       "      <td>1.252988</td>\n",
       "      <td>-0.706600</td>\n",
       "      <td>-0.635862</td>\n",
       "      <td>-3.903618</td>\n",
       "      <td>2</td>\n",
       "    </tr>\n",
       "  </tbody>\n",
       "</table>\n",
       "<p>62051 rows × 6 columns</p>\n",
       "</div>"
      ],
      "text/plain": [
       "             ZL        ZR         ZF         ZM        ZC  聚类类别\n",
       "0      1.445701 -0.944998  14.034510  26.762112  1.294939     4\n",
       "1      1.304181 -0.911945   9.073559  13.127371  2.866311     4\n",
       "2      1.339561 -0.889910   8.719206  12.653972  2.879075     4\n",
       "3      0.667342 -0.416159   0.781685  12.541109  1.993551     4\n",
       "4      0.384302 -0.922963   9.924008  13.899268  1.343695     4\n",
       "...         ...       ...        ...        ...       ...   ...\n",
       "62046 -1.243176  1.456811  -0.706600  -0.639947 -3.903618     2\n",
       "62047 -0.535577  0.685588  -0.706600  -0.768866 -3.903618     2\n",
       "62048 -0.004877 -0.460229  -0.564859  -0.441962 -3.903618     3\n",
       "62049  1.693361 -0.790753  -0.706600  -0.699514 -3.903618     1\n",
       "62050 -1.278556  1.252988  -0.706600  -0.635862 -3.903618     2\n",
       "\n",
       "[62051 rows x 6 columns]"
      ]
     },
     "execution_count": 14,
     "metadata": {},
     "output_type": "execute_result"
    }
   ],
   "source": [
    "r"
   ]
  },
  {
   "cell_type": "markdown",
   "id": "3c17dfce",
   "metadata": {},
   "source": [
    "### 查看聚类个数及中心点统计"
   ]
  },
  {
   "cell_type": "code",
   "execution_count": 15,
   "id": "535469b3",
   "metadata": {},
   "outputs": [],
   "source": [
    "r1 = pd.Series(model.labels_).value_counts()\n",
    "r2 = pd.DataFrame(model.cluster_centers_)\n",
    "r = pd.concat([r2, r1], axis=1)\n",
    "r.columns = list(data.columns) + ['类别数目']"
   ]
  },
  {
   "cell_type": "code",
   "execution_count": 16,
   "id": "f9dbcb2d",
   "metadata": {},
   "outputs": [
    {
     "data": {
      "text/html": [
       "<div>\n",
       "<style scoped>\n",
       "    .dataframe tbody tr th:only-of-type {\n",
       "        vertical-align: middle;\n",
       "    }\n",
       "\n",
       "    .dataframe tbody tr th {\n",
       "        vertical-align: top;\n",
       "    }\n",
       "\n",
       "    .dataframe thead th {\n",
       "        text-align: right;\n",
       "    }\n",
       "</style>\n",
       "<table border=\"1\" class=\"dataframe\">\n",
       "  <thead>\n",
       "    <tr style=\"text-align: right;\">\n",
       "      <th></th>\n",
       "      <th>ZL</th>\n",
       "      <th>ZR</th>\n",
       "      <th>ZF</th>\n",
       "      <th>ZM</th>\n",
       "      <th>ZC</th>\n",
       "      <th>类别数目</th>\n",
       "    </tr>\n",
       "  </thead>\n",
       "  <tbody>\n",
       "    <tr>\n",
       "      <th>0</th>\n",
       "      <td>0.052677</td>\n",
       "      <td>-0.002466</td>\n",
       "      <td>-0.227478</td>\n",
       "      <td>-0.232403</td>\n",
       "      <td>2.186510</td>\n",
       "      <td>4198</td>\n",
       "    </tr>\n",
       "    <tr>\n",
       "      <th>1</th>\n",
       "      <td>1.160582</td>\n",
       "      <td>-0.377320</td>\n",
       "      <td>-0.087083</td>\n",
       "      <td>-0.095125</td>\n",
       "      <td>-0.156465</td>\n",
       "      <td>15742</td>\n",
       "    </tr>\n",
       "    <tr>\n",
       "      <th>2</th>\n",
       "      <td>-0.314324</td>\n",
       "      <td>1.684899</td>\n",
       "      <td>-0.573915</td>\n",
       "      <td>-0.536686</td>\n",
       "      <td>-0.174784</td>\n",
       "      <td>12139</td>\n",
       "    </tr>\n",
       "    <tr>\n",
       "      <th>3</th>\n",
       "      <td>-0.700418</td>\n",
       "      <td>-0.415578</td>\n",
       "      <td>-0.160607</td>\n",
       "      <td>-0.160224</td>\n",
       "      <td>-0.254594</td>\n",
       "      <td>24638</td>\n",
       "    </tr>\n",
       "    <tr>\n",
       "      <th>4</th>\n",
       "      <td>0.484300</td>\n",
       "      <td>-0.799398</td>\n",
       "      <td>2.484044</td>\n",
       "      <td>2.425176</td>\n",
       "      <td>0.309765</td>\n",
       "      <td>5334</td>\n",
       "    </tr>\n",
       "  </tbody>\n",
       "</table>\n",
       "</div>"
      ],
      "text/plain": [
       "         ZL        ZR        ZF        ZM        ZC   类别数目\n",
       "0  0.052677 -0.002466 -0.227478 -0.232403  2.186510   4198\n",
       "1  1.160582 -0.377320 -0.087083 -0.095125 -0.156465  15742\n",
       "2 -0.314324  1.684899 -0.573915 -0.536686 -0.174784  12139\n",
       "3 -0.700418 -0.415578 -0.160607 -0.160224 -0.254594  24638\n",
       "4  0.484300 -0.799398  2.484044  2.425176  0.309765   5334"
      ]
     },
     "execution_count": 16,
     "metadata": {},
     "output_type": "execute_result"
    }
   ],
   "source": [
    "r"
   ]
  },
  {
   "cell_type": "markdown",
   "id": "c4773cd8",
   "metadata": {},
   "source": [
    "### 查看客户样本类别的聚类标准中心值"
   ]
  },
  {
   "cell_type": "code",
   "execution_count": 17,
   "id": "ba3c8a23",
   "metadata": {},
   "outputs": [
    {
     "data": {
      "text/plain": [
       "array([[ 5.26771391e-02, -2.46587220e-03, -2.27477521e-01,\n",
       "        -2.32402629e-01,  2.18650986e+00],\n",
       "       [ 1.16058165e+00, -3.77320270e-01, -8.70834939e-02,\n",
       "        -9.51252296e-02, -1.56464999e-01],\n",
       "       [-3.14324354e-01,  1.68489899e+00, -5.73915163e-01,\n",
       "        -5.36685917e-01, -1.74783667e-01],\n",
       "       [-7.00417841e-01, -4.15578488e-01, -1.60607144e-01,\n",
       "        -1.60224231e-01, -2.54593856e-01],\n",
       "       [ 4.84300014e-01, -7.99398310e-01,  2.48404397e+00,\n",
       "         2.42517606e+00,  3.09764552e-01]])"
      ]
     },
     "execution_count": 17,
     "metadata": {},
     "output_type": "execute_result"
    }
   ],
   "source": [
    "model.cluster_centers_"
   ]
  },
  {
   "cell_type": "markdown",
   "id": "4b917ff3",
   "metadata": {},
   "source": [
    "### 每个聚类数据的密度图像"
   ]
  },
  {
   "cell_type": "code",
   "execution_count": 39,
   "id": "c1eed2dc",
   "metadata": {},
   "outputs": [],
   "source": [
    "def density_plot(data):\n",
    "    plt.rcParams['font.sans-serif']=['SimHei']\n",
    "    plt.rcParams['axes.unicode_minus']=False\n",
    "    p=data.plot(kind='kde',linewidth=2,subplots=True,sharex=False)\n",
    "    [p[i].set_ylabel('密度') for i in range(5)]\n",
    "    [p[i].set_title('客户群%d' %i) for i in range(5)]\n",
    "    plt.legend()\n",
    "    plt.show()\n",
    "    return plt"
   ]
  },
  {
   "cell_type": "code",
   "execution_count": 41,
   "id": "f56567c6",
   "metadata": {},
   "outputs": [
    {
     "data": {
      "image/png": "[encoded data removed]",
      "text/plain": [
       "<Figure size 432x288 with 5 Axes>"
      ]
     },
     "metadata": {
      "needs_background": "light"
     },
     "output_type": "display_data"
    },
    {
     "data": {
      "text/plain": [
       "<module 'matplotlib.pyplot' from 'E:\\\\programSoftware\\\\Anaconda\\\\lib\\\\site-packages\\\\matplotlib\\\\pyplot.py'>"
      ]
     },
     "execution_count": 41,
     "metadata": {},
     "output_type": "execute_result"
    }
   ],
   "source": [
    "density_plot(data)"
   ]
  },
  {
   "cell_type": "markdown",
   "id": "f94e0cac",
   "metadata": {},
   "source": [
    "## 画出5个聚类中心点在每个维度上的散点图，并按统一类别把聚类中心用线连接起来"
   ]
  },
  {
   "cell_type": "code",
   "execution_count": 20,
   "id": "ba9d82a4",
   "metadata": {},
   "outputs": [
    {
     "data": {
      "text/plain": [
       "Text(0.5, 1.0, '180512206-李环宇')"
      ]
     },
     "execution_count": 20,
     "metadata": {},
     "output_type": "execute_result"
    },
    {
     "data": {
      "text/plain": [
       "[<matplotlib.lines.Line2D at 0x25071d70ee0>]"
      ]
     },
     "execution_count": 20,
     "metadata": {},
     "output_type": "execute_result"
    },
    {
     "data": {
      "text/plain": [
       "[<matplotlib.lines.Line2D at 0x25071d72c10>]"
      ]
     },
     "execution_count": 20,
     "metadata": {},
     "output_type": "execute_result"
    },
    {
     "data": {
      "text/plain": [
       "[<matplotlib.lines.Line2D at 0x25071d72430>]"
      ]
     },
     "execution_count": 20,
     "metadata": {},
     "output_type": "execute_result"
    },
    {
     "data": {
      "text/plain": [
       "[<matplotlib.lines.Line2D at 0x25071d70b80>]"
      ]
     },
     "execution_count": 20,
     "metadata": {},
     "output_type": "execute_result"
    },
    {
     "data": {
      "text/plain": [
       "[<matplotlib.lines.Line2D at 0x25071d79ca0>]"
      ]
     },
     "execution_count": 20,
     "metadata": {},
     "output_type": "execute_result"
    },
    {
     "data": {
      "text/plain": [
       "<matplotlib.legend.Legend at 0x250708a23d0>"
      ]
     },
     "execution_count": 20,
     "metadata": {},
     "output_type": "execute_result"
    },
    {
     "data": {
      "text/plain": [
       "Text(0.5, 0, 'ZL--ZR--ZF--ZM--ZC')"
      ]
     },
     "execution_count": 20,
     "metadata": {},
     "output_type": "execute_result"
    },
    {
     "data": {
      "text/plain": [
       "Text(0, 0.5, 'values')"
      ]
     },
     "execution_count": 20,
     "metadata": {},
     "output_type": "execute_result"
    },
    {
     "data": {
      "text/plain": [
       "<Figure size 432x540 with 0 Axes>"
      ]
     },
     "execution_count": 20,
     "metadata": {},
     "output_type": "execute_result"
    },
    {
     "data": {
      "image/png": "[encoded data removed]",
      "text/plain": [
       "<Figure size 432x288 with 1 Axes>"
      ]
     },
     "metadata": {
      "needs_background": "light"
     },
     "output_type": "display_data"
    },
    {
     "data": {
      "text/plain": [
       "<Figure size 432x540 with 0 Axes>"
      ]
     },
     "metadata": {},
     "output_type": "display_data"
    }
   ],
   "source": [
    "clu = model.cluster_centers_  \n",
    "x = [1,2,3,4,5]  \n",
    "colors = ['red','green','yellow','blue','black'] \n",
    "plt.title(\"180512206-李环宇\") \n",
    "plt.rcParams['font.sans-serif'] = ['SimHei'] # 正常显示中文\n",
    "plt.rcParams['axes.unicode_minus'] = False # 正常显示负号\n",
    "for i in range(5):  \n",
    "   plt.plot(x,clu[i],label='cluster '+str(i),linewidth=1,color=colors[i],marker='o')   \n",
    "plt.legend()\n",
    "plt.xlabel('ZL--ZR--ZF--ZM--ZC')  \n",
    "plt.ylabel('values')  \n",
    "plt.figure(figsize=(6, 7.5))\n",
    "plt.show() "
   ]
  },
  {
   "cell_type": "markdown",
   "id": "2511e63f",
   "metadata": {
    "heading_collapsed": true
   },
   "source": [
    "## 分析聚类结果"
   ]
  },
  {
   "cell_type": "markdown",
   "id": "379f926c",
   "metadata": {
    "hidden": true
   },
   "source": [
    "我们重点关注的是ZL，ZF，ZM，从图中可以看到：\n",
    "1、客户群4[blue] 的zF,zM很高，zL也不低，可以看做是重要保持的客户；\n",
    "2、客户群3[yellow] 重要发展客户\n",
    "3、客户群1[red] 重要挽留客户，原因：入会时间长，但是zF,zM较低\n",
    "4、客户群2[green] 一般客户\n",
    "5、客户群5[black] 低价值客户\n",
    "\n",
    "重要保持客户：zR（最近乘坐航班）低，zF（乘坐次数）、zC（平均折扣率高，舱位较高）、zM（里程数）高。最优先的目标，进行差异化管理，提高满意度。\n",
    "重要发展客户：zR低，zC高，zF或zM较低，潜在价值客户。虽然说，当前价值不高，但是却有很大的发展潜力，促使这类客户在本公司消费和合作伙伴处消费。\n",
    "重要挽留客户：zC、zF、zM较高，但是较长时间没有乘坐（zR）小。增加与这类客户的互动，了解情况，采取一定手段，延长客户生命周期。\n",
    "一般与低价值客户：zC、zF、zM、zL低，zR高。他们可能是在公司打折促销时才会乘坐本公司航班。"
   ]
  },
  {
   "attachments": {
    "image.png": {
     "image/png": "[encoded data removed]"
    }
   },
   "cell_type": "markdown",
   "id": "5d163682",
   "metadata": {
    "hidden": true
   },
   "source": [
    "![image.png](attachment:image.png)"
   ]
  },
  {
   "cell_type": "code",
   "execution_count": null,
   "id": "35b50186",
   "metadata": {
    "hidden": true
   },
   "outputs": [],
   "source": []
  }
 ],
 "metadata": {
  "kernelspec": {
   "display_name": "Python 3",
   "language": "python",
   "name": "python3"
  },
  "language_info": {
   "codemirror_mode": {
    "name": "ipython",
    "version": 3
   },
   "file_extension": ".py",
   "mimetype": "text/x-python",
   "name": "python",
   "nbconvert_exporter": "python",
   "pygments_lexer": "ipython3",
   "version": "3.8.3"
  },
  "toc": {
   "base_numbering": 1,
   "nav_menu": {},
   "number_sections": true,
   "sideBar": true,
   "skip_h1_title": false,
   "title_cell": "Table of Contents",
   "title_sidebar": "Contents",
   "toc_cell": false,
   "toc_position": {},
   "toc_section_display": true,
   "toc_window_display": false
  },
  "varInspector": {
   "cols": {
    "lenName": 16,
    "lenType": 16,
    "lenVar": 40
   },
   "kernels_config": {
    "python": {
     "delete_cmd_postfix": "",
     "delete_cmd_prefix": "del ",
     "library": "var_list.py",
     "varRefreshCmd": "print(var_dic_list())"
    },
    "r": {
     "delete_cmd_postfix": ") ",
     "delete_cmd_prefix": "rm(",
     "library": "var_list.r",
     "varRefreshCmd": "cat(var_dic_list()) "
    }
   },
   "types_to_exclude": [
    "module",
    "function",
    "builtin_function_or_method",
    "instance",
    "_Feature"
   ],
   "window_display": false
  }
 },
 "nbformat": 4,
 "nbformat_minor": 5
}
