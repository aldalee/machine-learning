{
 "cells": [
  {
   "cell_type": "markdown",
   "id": "97008ed1",
   "metadata": {},
   "source": [
    "# 实验四 使用神经网络识别手写体数字"
   ]
  },
  {
   "cell_type": "code",
   "execution_count": 73,
   "id": "d4e83e10",
   "metadata": {},
   "outputs": [],
   "source": [
    "from sklearn.neural_network import MLPClassifier\n",
    "import joblib\n",
    "import numpy as np\n",
    "from sklearn.metrics import accuracy_score"
   ]
  },
  {
   "cell_type": "markdown",
   "id": "03787404",
   "metadata": {},
   "source": [
    "## 载入训练数据"
   ]
  },
  {
   "cell_type": "code",
   "execution_count": 84,
   "id": "18ca7acc",
   "metadata": {},
   "outputs": [],
   "source": [
    "data_train = np.loadtxt(r\"data/digits_training.csv\",skiprows=1, delimiter=',')"
   ]
  },
  {
   "cell_type": "markdown",
   "id": "e2aac1de",
   "metadata": {},
   "source": [
    "### 查看前五行数据"
   ]
  },
  {
   "cell_type": "code",
   "execution_count": 85,
   "id": "4f469805",
   "metadata": {},
   "outputs": [
    {
     "data": {
      "text/plain": [
       "array([[1., 0., 0., ..., 0., 0., 0.],\n",
       "       [0., 0., 0., ..., 0., 0., 0.],\n",
       "       [1., 0., 0., ..., 0., 0., 0.],\n",
       "       [4., 0., 0., ..., 0., 0., 0.]])"
      ]
     },
     "execution_count": 85,
     "metadata": {},
     "output_type": "execute_result"
    }
   ],
   "source": [
    "data_train[:4,:]"
   ]
  },
  {
   "cell_type": "markdown",
   "id": "78636c95",
   "metadata": {},
   "source": [
    "### 查看数据集大小"
   ]
  },
  {
   "cell_type": "code",
   "execution_count": 86,
   "id": "2519f6cb",
   "metadata": {},
   "outputs": [
    {
     "data": {
      "text/plain": [
       "5000"
      ]
     },
     "execution_count": 86,
     "metadata": {},
     "output_type": "execute_result"
    }
   ],
   "source": [
    "data_train.shape[0]"
   ]
  },
  {
   "cell_type": "markdown",
   "id": "2f4a9eb7",
   "metadata": {},
   "source": [
    "## 标准化训练数据"
   ]
  },
  {
   "cell_type": "code",
   "execution_count": 87,
   "id": "93587f3b",
   "metadata": {},
   "outputs": [],
   "source": [
    "xTrain = data_train[:, 1:]\n",
    "yTrain = data_train[:, 0]"
   ]
  },
  {
   "cell_type": "code",
   "execution_count": 79,
   "id": "41bbbab6",
   "metadata": {},
   "outputs": [],
   "source": [
    "def normalizeData(X): \n",
    "    return (X - X.mean())/X.max()"
   ]
  },
  {
   "cell_type": "code",
   "execution_count": 88,
   "id": "e28605d1",
   "metadata": {},
   "outputs": [],
   "source": [
    "xTrain=normalizeData(xTrain)"
   ]
  },
  {
   "cell_type": "markdown",
   "id": "f0163670",
   "metadata": {},
   "source": [
    "## 构建多层感知机，训练模型"
   ]
  },
  {
   "cell_type": "code",
   "execution_count": 89,
   "id": "e000fce2",
   "metadata": {},
   "outputs": [],
   "source": [
    "model = MLPClassifier(activation='relu',\n",
    "                      solver= \"lbfgs\" ,\n",
    "                      alpha=1e-6, \n",
    "                      hidden_layer_sizes=(200, 100, 50))"
   ]
  },
  {
   "cell_type": "code",
   "execution_count": 90,
   "id": "6da71001",
   "metadata": {},
   "outputs": [
    {
     "data": {
      "text/plain": [
       "MLPClassifier(alpha=1e-06, hidden_layer_sizes=(200, 100, 50), solver='lbfgs')"
      ]
     },
     "execution_count": 90,
     "metadata": {},
     "output_type": "execute_result"
    }
   ],
   "source": [
    "model.fit(xTrain,yTrain)"
   ]
  },
  {
   "cell_type": "markdown",
   "id": "3ce66d62",
   "metadata": {},
   "source": [
    "## 保存训练模型为mlp_classifier_model1.m"
   ]
  },
  {
   "cell_type": "code",
   "execution_count": 83,
   "id": "a688a6e5",
   "metadata": {},
   "outputs": [
    {
     "data": {
      "text/plain": [
       "['output/mlp_classifier_model1.m']"
      ]
     },
     "execution_count": 83,
     "metadata": {},
     "output_type": "execute_result"
    }
   ],
   "source": [
    "joblib.dump(model, \"output/mlp_classifier_model1.m\")"
   ]
  },
  {
   "cell_type": "markdown",
   "id": "d1a3758b",
   "metadata": {},
   "source": [
    "## 载入测试数据"
   ]
  },
  {
   "cell_type": "code",
   "execution_count": 91,
   "id": "3b728caf",
   "metadata": {},
   "outputs": [],
   "source": [
    "data_test = np.loadtxt(r\"data/digits_testing.csv\",skiprows=1, delimiter=',')"
   ]
  },
  {
   "cell_type": "markdown",
   "id": "74dc0451",
   "metadata": {},
   "source": [
    "### 查看前5行"
   ]
  },
  {
   "cell_type": "code",
   "execution_count": 36,
   "id": "785f0a91",
   "metadata": {},
   "outputs": [
    {
     "data": {
      "text/plain": [
       "array([[8., 0., 0., ..., 0., 0., 0.],\n",
       "       [7., 0., 0., ..., 0., 0., 0.],\n",
       "       [2., 0., 0., ..., 0., 0., 0.],\n",
       "       [6., 0., 0., ..., 0., 0., 0.],\n",
       "       [3., 0., 0., ..., 0., 0., 0.]])"
      ]
     },
     "execution_count": 36,
     "metadata": {},
     "output_type": "execute_result"
    }
   ],
   "source": [
    "data_test[:5,:]"
   ]
  },
  {
   "cell_type": "markdown",
   "id": "5269dbec",
   "metadata": {},
   "source": [
    "### 查看数据集大小"
   ]
  },
  {
   "cell_type": "code",
   "execution_count": 93,
   "id": "8bc1546d",
   "metadata": {},
   "outputs": [
    {
     "data": {
      "text/plain": [
       "500"
      ]
     },
     "execution_count": 93,
     "metadata": {},
     "output_type": "execute_result"
    }
   ],
   "source": [
    "data_test.shape[0]"
   ]
  },
  {
   "cell_type": "markdown",
   "id": "7d915337",
   "metadata": {},
   "source": [
    "## 标准化测试数据"
   ]
  },
  {
   "cell_type": "code",
   "execution_count": 94,
   "id": "9d105bb8",
   "metadata": {},
   "outputs": [],
   "source": [
    "xTest= data_test[:, 1:]\n",
    "yTest = data_test[:, 0]"
   ]
  },
  {
   "cell_type": "code",
   "execution_count": 95,
   "id": "66435c61",
   "metadata": {},
   "outputs": [],
   "source": [
    "xTest=normalizeData(xTest)"
   ]
  },
  {
   "cell_type": "markdown",
   "id": "d095f4c1",
   "metadata": {},
   "source": [
    "## 使用模型对测试集进行预测"
   ]
  },
  {
   "cell_type": "markdown",
   "id": "2caa1f73",
   "metadata": {},
   "source": [
    "### 载入模型"
   ]
  },
  {
   "cell_type": "code",
   "execution_count": 96,
   "id": "4298c6f2",
   "metadata": {},
   "outputs": [],
   "source": [
    "model2=joblib.load(\"output/mlp_classifier_model1.m\")"
   ]
  },
  {
   "cell_type": "markdown",
   "id": "cb582194",
   "metadata": {},
   "source": [
    "### 预测模型"
   ]
  },
  {
   "cell_type": "code",
   "execution_count": 97,
   "id": "fe9f7092",
   "metadata": {},
   "outputs": [],
   "source": [
    "pred=model2.predict(xTest)"
   ]
  },
  {
   "cell_type": "markdown",
   "id": "f6bc63f7",
   "metadata": {},
   "source": [
    "### 打印错误数据"
   ]
  },
  {
   "cell_type": "code",
   "execution_count": 101,
   "id": "3dcde3b0",
   "metadata": {},
   "outputs": [
    {
     "name": "stdout",
     "output_type": "stream",
     "text": [
      "error data: 29\n"
     ]
    }
   ],
   "source": [
    "print(\"error data:\",(pred != yTest).sum())"
   ]
  },
  {
   "cell_type": "markdown",
   "id": "68a7c729",
   "metadata": {},
   "source": [
    "### 评价模型"
   ]
  },
  {
   "cell_type": "code",
   "execution_count": 100,
   "id": "65be208f",
   "metadata": {},
   "outputs": [
    {
     "name": "stdout",
     "output_type": "stream",
     "text": [
      "accuracy_predict; 0.942\n"
     ]
    }
   ],
   "source": [
    "print(\"accuracy_predict;\",accuracy_score(yTest,pred))"
   ]
  },
  {
   "cell_type": "code",
   "execution_count": null,
   "id": "839755a5",
   "metadata": {},
   "outputs": [],
   "source": []
  }
 ],
 "metadata": {
  "kernelspec": {
   "display_name": "Python 3",
   "language": "python",
   "name": "python3"
  },
  "language_info": {
   "codemirror_mode": {
    "name": "ipython",
    "version": 3
   },
   "file_extension": ".py",
   "mimetype": "text/x-python",
   "name": "python",
   "nbconvert_exporter": "python",
   "pygments_lexer": "ipython3",
   "version": "3.8.3"
  },
  "toc": {
   "base_numbering": 1,
   "nav_menu": {},
   "number_sections": true,
   "sideBar": true,
   "skip_h1_title": false,
   "title_cell": "Table of Contents",
   "title_sidebar": "Contents",
   "toc_cell": false,
   "toc_position": {},
   "toc_section_display": true,
   "toc_window_display": false
  },
  "varInspector": {
   "cols": {
    "lenName": 16,
    "lenType": 16,
    "lenVar": 40
   },
   "kernels_config": {
    "python": {
     "delete_cmd_postfix": "",
     "delete_cmd_prefix": "del ",
     "library": "var_list.py",
     "varRefreshCmd": "print(var_dic_list())"
    },
    "r": {
     "delete_cmd_postfix": ") ",
     "delete_cmd_prefix": "rm(",
     "library": "var_list.r",
     "varRefreshCmd": "cat(var_dic_list()) "
    }
   },
   "types_to_exclude": [
    "module",
    "function",
    "builtin_function_or_method",
    "instance",
    "_Feature"
   ],
   "window_display": false
  }
 },
 "nbformat": 4,
 "nbformat_minor": 5
}
