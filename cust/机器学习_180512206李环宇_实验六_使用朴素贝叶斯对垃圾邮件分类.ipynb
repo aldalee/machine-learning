{
 "cells": [
  {
   "cell_type": "markdown",
   "id": "cfef9024",
   "metadata": {},
   "source": [
    "# 实验六 使用朴素贝叶斯对垃圾邮件分类"
   ]
  },
  {
   "cell_type": "code",
   "execution_count": 83,
   "id": "bb852c55",
   "metadata": {},
   "outputs": [],
   "source": [
    "from sklearn.feature_extraction.text import TfidfVectorizer\n",
    "import pandas as pd\n",
    "from  sklearn.naive_bayes import GaussianNB\n",
    "from sklearn.model_selection import train_test_split\n",
    "from sklearn.metrics import classification_report"
   ]
  },
  {
   "cell_type": "markdown",
   "id": "8767deb0",
   "metadata": {},
   "source": [
    "## 读取CSV文件"
   ]
  },
  {
   "cell_type": "code",
   "execution_count": 84,
   "id": "331e0b7b",
   "metadata": {},
   "outputs": [],
   "source": [
    "sms = pd.read_csv(\"data/messages.csv\")"
   ]
  },
  {
   "cell_type": "code",
   "execution_count": 85,
   "id": "a1e688a8",
   "metadata": {},
   "outputs": [
    {
     "data": {
      "text/html": [
       "<div>\n",
       "<style scoped>\n",
       "    .dataframe tbody tr th:only-of-type {\n",
       "        vertical-align: middle;\n",
       "    }\n",
       "\n",
       "    .dataframe tbody tr th {\n",
       "        vertical-align: top;\n",
       "    }\n",
       "\n",
       "    .dataframe thead th {\n",
       "        text-align: right;\n",
       "    }\n",
       "</style>\n",
       "<table border=\"1\" class=\"dataframe\">\n",
       "  <thead>\n",
       "    <tr style=\"text-align: right;\">\n",
       "      <th></th>\n",
       "      <th>Subject</th>\n",
       "      <th>Spam</th>\n",
       "    </tr>\n",
       "  </thead>\n",
       "  <tbody>\n",
       "    <tr>\n",
       "      <th>0</th>\n",
       "      <td>Re: New Sequences Window</td>\n",
       "      <td>0</td>\n",
       "    </tr>\n",
       "    <tr>\n",
       "      <th>1</th>\n",
       "      <td>[zzzzteana] RE: Alexander</td>\n",
       "      <td>0</td>\n",
       "    </tr>\n",
       "    <tr>\n",
       "      <th>2</th>\n",
       "      <td>[zzzzteana] Moscow bomber</td>\n",
       "      <td>0</td>\n",
       "    </tr>\n",
       "    <tr>\n",
       "      <th>3</th>\n",
       "      <td>[IRR] Klez: The Virus That  Won't Die</td>\n",
       "      <td>0</td>\n",
       "    </tr>\n",
       "    <tr>\n",
       "      <th>4</th>\n",
       "      <td>Re: Insert signature</td>\n",
       "      <td>0</td>\n",
       "    </tr>\n",
       "  </tbody>\n",
       "</table>\n",
       "</div>"
      ],
      "text/plain": [
       "                                 Subject  Spam\n",
       "0               Re: New Sequences Window     0\n",
       "1              [zzzzteana] RE: Alexander     0\n",
       "2              [zzzzteana] Moscow bomber     0\n",
       "3  [IRR] Klez: The Virus That  Won't Die     0\n",
       "4                   Re: Insert signature     0"
      ]
     },
     "execution_count": 85,
     "metadata": {},
     "output_type": "execute_result"
    }
   ],
   "source": [
    "sms.head()"
   ]
  },
  {
   "cell_type": "markdown",
   "id": "5610288d",
   "metadata": {},
   "source": [
    "## 数据预处理"
   ]
  },
  {
   "cell_type": "code",
   "execution_count": 86,
   "id": "7811721e",
   "metadata": {},
   "outputs": [],
   "source": [
    "sms_data = sms.iloc[:,0]\n",
    "sms_label = sms.iloc[:,1]"
   ]
  },
  {
   "cell_type": "code",
   "execution_count": 87,
   "id": "b0edac72",
   "metadata": {},
   "outputs": [],
   "source": [
    "# 把无意义的符号都替换成空格\n",
    "sms_data_clear = []\n",
    "for line in sms_data:\n",
    "    # 每一行都去掉无意义符号并按空格分词\n",
    "    for char in line:\n",
    "        if char.isalpha() is False:\n",
    "            # 不是字母，发生替换操作:\n",
    "            newString = line.replace(char,\" \")\n",
    "    tempList = newString.split(\" \")\n",
    "    # 将处理好后的一行数据追加到存放干净数据的列表\n",
    "    sms_data_clear.append(tempList)\n",
    "# 去掉长度不大于3的词和没有语义的词\n",
    "sms_data_clear2 = []\n",
    "for line in sms_data_clear:\n",
    "    tempList = []\n",
    "    for word in line:\n",
    "        if word != '' and len(word) > 3 and word.isalpha():\n",
    "            tempList.append(word)\n",
    "    tempString = ' '.join(tempList)\n",
    "    sms_data_clear2.append(tempString)\n",
    "sms_data_clear = sms_data_clear2"
   ]
  },
  {
   "cell_type": "markdown",
   "id": "2da174ab",
   "metadata": {},
   "source": [
    "## 将数据集按3:1的比例拆分成训练集合测试集"
   ]
  },
  {
   "cell_type": "code",
   "execution_count": 88,
   "id": "c4cf3c35",
   "metadata": {},
   "outputs": [],
   "source": [
    "x_train,x_test,y_train,y_test = train_test_split(sms_data_clear,sms_label,test_size=0.25,random_state=0,stratify=sms_label)"
   ]
  },
  {
   "cell_type": "markdown",
   "id": "02bdb607",
   "metadata": {},
   "source": [
    "## 词向量化"
   ]
  },
  {
   "cell_type": "code",
   "execution_count": 89,
   "id": "95762188",
   "metadata": {},
   "outputs": [],
   "source": [
    "tfidf = TfidfVectorizer()\n",
    "X_train = tfidf.fit_transform(x_train)\n",
    "X_test = tfidf.transform(x_test)\n",
    "X_train = X_train.toarray()\n",
    "X_test = X_test.toarray()"
   ]
  },
  {
   "cell_type": "markdown",
   "id": "6dc04c2e",
   "metadata": {},
   "source": [
    "## 根据训练数据生成特征矩阵和分类矩阵，显示训练矩阵特征维度"
   ]
  },
  {
   "cell_type": "code",
   "execution_count": 90,
   "id": "0cda5d5e",
   "metadata": {},
   "outputs": [
    {
     "data": {
      "text/plain": [
       "(2451, 2713)"
      ]
     },
     "execution_count": 90,
     "metadata": {},
     "output_type": "execute_result"
    }
   ],
   "source": [
    "X_train.shape"
   ]
  },
  {
   "cell_type": "markdown",
   "id": "ee4abc03",
   "metadata": {},
   "source": [
    "## 根据测试数据生成特征矩阵和分类矩阵，显示测试矩阵特征维度"
   ]
  },
  {
   "cell_type": "code",
   "execution_count": 91,
   "id": "6b0e742f",
   "metadata": {},
   "outputs": [
    {
     "data": {
      "text/plain": [
       "(817, 2713)"
      ]
     },
     "execution_count": 91,
     "metadata": {},
     "output_type": "execute_result"
    }
   ],
   "source": [
    "X_test.shape"
   ]
  },
  {
   "cell_type": "markdown",
   "id": "baeced87",
   "metadata": {},
   "source": [
    "## 用训练集训练朴素贝叶斯模型"
   ]
  },
  {
   "cell_type": "code",
   "execution_count": 93,
   "id": "a2c22c10",
   "metadata": {},
   "outputs": [],
   "source": [
    "gnb = GaussianNB()\n",
    "module = gnb.fit(X_train,y_train)"
   ]
  },
  {
   "cell_type": "markdown",
   "id": "35950607",
   "metadata": {},
   "source": [
    "## 用测试集进行预测"
   ]
  },
  {
   "cell_type": "code",
   "execution_count": 94,
   "id": "7dcd91c9",
   "metadata": {},
   "outputs": [],
   "source": [
    "y_predict = module.predict(X_test)"
   ]
  },
  {
   "cell_type": "markdown",
   "id": "050a7f63",
   "metadata": {},
   "source": [
    "## 输出模型分类的各个指标:准确率、精度、召回率和F1值"
   ]
  },
  {
   "cell_type": "code",
   "execution_count": 95,
   "id": "3e75ebe0",
   "metadata": {},
   "outputs": [],
   "source": [
    "# 利用classification_report方法来细致评价模型\n",
    "cr = classification_report(y_predict,y_test)"
   ]
  },
  {
   "cell_type": "code",
   "execution_count": 96,
   "id": "f69a3b2a",
   "metadata": {},
   "outputs": [
    {
     "name": "stdout",
     "output_type": "stream",
     "text": [
      "              precision    recall  f1-score   support\n",
      "\n",
      "           0       0.81      0.96      0.88       594\n",
      "           1       0.79      0.39      0.53       223\n",
      "\n",
      "    accuracy                           0.81       817\n",
      "   macro avg       0.80      0.68      0.70       817\n",
      "weighted avg       0.80      0.81      0.78       817\n",
      "\n"
     ]
    }
   ],
   "source": [
    "print(cr)"
   ]
  }
 ],
 "metadata": {
  "kernelspec": {
   "display_name": "Python 3",
   "language": "python",
   "name": "python3"
  },
  "language_info": {
   "codemirror_mode": {
    "name": "ipython",
    "version": 3
   },
   "file_extension": ".py",
   "mimetype": "text/x-python",
   "name": "python",
   "nbconvert_exporter": "python",
   "pygments_lexer": "ipython3",
   "version": "3.8.3"
  },
  "toc": {
   "base_numbering": 1,
   "nav_menu": {},
   "number_sections": true,
   "sideBar": true,
   "skip_h1_title": false,
   "title_cell": "Table of Contents",
   "title_sidebar": "Contents",
   "toc_cell": false,
   "toc_position": {},
   "toc_section_display": true,
   "toc_window_display": false
  },
  "varInspector": {
   "cols": {
    "lenName": 16,
    "lenType": 16,
    "lenVar": 40
   },
   "kernels_config": {
    "python": {
     "delete_cmd_postfix": "",
     "delete_cmd_prefix": "del ",
     "library": "var_list.py",
     "varRefreshCmd": "print(var_dic_list())"
    },
    "r": {
     "delete_cmd_postfix": ") ",
     "delete_cmd_prefix": "rm(",
     "library": "var_list.r",
     "varRefreshCmd": "cat(var_dic_list()) "
    }
   },
   "types_to_exclude": [
    "module",
    "function",
    "builtin_function_or_method",
    "instance",
    "_Feature"
   ],
   "window_display": false
  }
 },
 "nbformat": 4,
 "nbformat_minor": 5
}
